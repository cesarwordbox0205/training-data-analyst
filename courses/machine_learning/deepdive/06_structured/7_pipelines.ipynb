{
 "cells": [
  {
   "cell_type": "markdown",
   "metadata": {},
   "source": [
    "## Kubeflow pipelines\n",
    "\n",
    "This notebook goes through the steps of using Kubeflow pipelines using the Python3 interpreter (command-line) to preprocess, train, tune and deploy the babyweight model.\n"
   ]
  },
  {
   "cell_type": "markdown",
   "metadata": {},
   "source": [
    "### 1. Start Hosted Pipelines and Notebook\n",
    "\n",
    "To try out this notebook, first launch Kubeflow Hosted Pipelines and an AI Platform Notebooks instance.\n",
    "Follow the instructions in this [README.md](pipelines/README.md) file."
   ]
  },
  {
   "cell_type": "markdown",
   "metadata": {},
   "source": [
    "### 2. Install necessary packages"
   ]
  },
  {
   "cell_type": "code",
   "execution_count": 1,
   "metadata": {},
   "outputs": [],
   "source": [
    "#%pip install --quiet kfp python-dateutil --upgrade"
   ]
  },
  {
   "cell_type": "markdown",
   "metadata": {},
   "source": [
    "Make sure to *restart the kernel* to pick up new packages (look for button in the ribbon of icons above this notebook)"
   ]
  },
  {
   "cell_type": "code",
   "execution_count": 2,
   "metadata": {},
   "outputs": [],
   "source": [
    "#%%bash\n",
    "#cd pipelines\n",
    "#./setup_auth.sh kfpdemo us-central1-a cluster-1 default"
   ]
  },
  {
   "cell_type": "markdown",
   "metadata": {},
   "source": [
    "### 3. Connect to the Hosted Pipelines\n",
    "\n",
    "Visit https://console.cloud.google.com/ai-platform/pipelines/clusters\n",
    "and get the hostname for your cluster.  You can get it by clicking on the Settings icon.\n",
    "Alternately, click on the Open Pipelines Dashboard link and look at the URL.\n",
    "Change the settings in the following cell"
   ]
  },
  {
   "cell_type": "code",
   "execution_count": 3,
   "metadata": {},
   "outputs": [],
   "source": [
    "# CHANGE THESE\n",
    "PIPELINES_HOST='67ec0276503ce122-dot-us-central1.pipelines.googleusercontent.com'\n",
    "PROJECT='youtubelist-256522'\n",
    "BUCKET='cesar-pipelines-kfp'"
   ]
  },
  {
   "cell_type": "code",
   "execution_count": 4,
   "metadata": {},
   "outputs": [
    {
     "data": {
      "text/plain": [
       "{'next_page_token': None,\n",
       " 'pipelines': [{'created_at': datetime.datetime(2021, 3, 12, 6, 9, 50, tzinfo=tzlocal()),\n",
       "                'default_version': {'code_source_url': None,\n",
       "                                    'created_at': datetime.datetime(2021, 3, 12, 6, 9, 50, tzinfo=tzlocal()),\n",
       "                                    'id': '97bd0db1-01bd-4a0a-85a4-3a200d3b66d8',\n",
       "                                    'name': '[Demo] XGBoost - Iterative model '\n",
       "                                            'training',\n",
       "                                    'package_url': None,\n",
       "                                    'parameters': None,\n",
       "                                    'resource_references': [{'key': {'id': '97bd0db1-01bd-4a0a-85a4-3a200d3b66d8',\n",
       "                                                                     'type': 'PIPELINE'},\n",
       "                                                             'name': None,\n",
       "                                                             'relationship': 'OWNER'}]},\n",
       "                'description': '[source '\n",
       "                               'code](https://github.com/kubeflow/pipelines/blob/d79071c0bef19442483abc101769a0d893e72f42/samples/core/train_until_good/train_until_good.py) '\n",
       "                               'This sample demonstrates iterative training '\n",
       "                               'using a train-eval-check recursive loop. The '\n",
       "                               'main pipeline trains the initial model and '\n",
       "                               'then gradually trains the model some more '\n",
       "                               'until the model evaluation metrics are good '\n",
       "                               'enough.',\n",
       "                'error': None,\n",
       "                'id': '97bd0db1-01bd-4a0a-85a4-3a200d3b66d8',\n",
       "                'name': '[Demo] XGBoost - Iterative model training',\n",
       "                'parameters': None,\n",
       "                'url': None},\n",
       "               {'created_at': datetime.datetime(2021, 3, 12, 6, 9, 51, tzinfo=tzlocal()),\n",
       "                'default_version': {'code_source_url': None,\n",
       "                                    'created_at': datetime.datetime(2021, 3, 12, 6, 9, 51, tzinfo=tzlocal()),\n",
       "                                    'id': '7f74a3c3-bcd4-4b2a-8d31-05a853d83146',\n",
       "                                    'name': '[Demo] TFX - Taxi tip prediction '\n",
       "                                            'model trainer',\n",
       "                                    'package_url': None,\n",
       "                                    'parameters': [{'name': 'pipeline-root',\n",
       "                                                    'value': 'gs://{{kfp-default-bucket}}/tfx_taxi_simple/{{workflow.uid}}'},\n",
       "                                                   {'name': 'data-root',\n",
       "                                                    'value': 'gs://ml-pipeline/sample-data/chicago-taxi/data'},\n",
       "                                                   {'name': 'module-file',\n",
       "                                                    'value': '/tfx/src/tfx/examples/chicago_taxi_pipeline/taxi_utils.py'}],\n",
       "                                    'resource_references': [{'key': {'id': '7f74a3c3-bcd4-4b2a-8d31-05a853d83146',\n",
       "                                                                     'type': 'PIPELINE'},\n",
       "                                                             'name': None,\n",
       "                                                             'relationship': 'OWNER'}]},\n",
       "                'description': '[source '\n",
       "                               'code](https://github.com/kubeflow/pipelines/tree/d79071c0bef19442483abc101769a0d893e72f42/samples/core/parameterized_tfx_oss) '\n",
       "                               '[GCP Permission '\n",
       "                               'requirements](https://github.com/kubeflow/pipelines/blob/d79071c0bef19442483abc101769a0d893e72f42/samples/core/parameterized_tfx_oss#permission). '\n",
       "                               'Example pipeline that does classification with '\n",
       "                               'model analysis based on a public tax cab '\n",
       "                               'dataset.',\n",
       "                'error': None,\n",
       "                'id': '7f74a3c3-bcd4-4b2a-8d31-05a853d83146',\n",
       "                'name': '[Demo] TFX - Taxi tip prediction model trainer',\n",
       "                'parameters': [{'name': 'pipeline-root',\n",
       "                                'value': 'gs://{{kfp-default-bucket}}/tfx_taxi_simple/{{workflow.uid}}'},\n",
       "                               {'name': 'data-root',\n",
       "                                'value': 'gs://ml-pipeline/sample-data/chicago-taxi/data'},\n",
       "                               {'name': 'module-file',\n",
       "                                'value': '/tfx/src/tfx/examples/chicago_taxi_pipeline/taxi_utils.py'}],\n",
       "                'url': None},\n",
       "               {'created_at': datetime.datetime(2021, 3, 12, 6, 9, 52, tzinfo=tzlocal()),\n",
       "                'default_version': {'code_source_url': None,\n",
       "                                    'created_at': datetime.datetime(2021, 3, 12, 6, 9, 52, tzinfo=tzlocal()),\n",
       "                                    'id': 'af8fd994-46f5-45ae-af9b-959399e43ad3',\n",
       "                                    'name': '[Tutorial] Data passing in python '\n",
       "                                            'components',\n",
       "                                    'package_url': None,\n",
       "                                    'parameters': None,\n",
       "                                    'resource_references': [{'key': {'id': 'af8fd994-46f5-45ae-af9b-959399e43ad3',\n",
       "                                                                     'type': 'PIPELINE'},\n",
       "                                                             'name': None,\n",
       "                                                             'relationship': 'OWNER'}]},\n",
       "                'description': '[source '\n",
       "                               'code](https://github.com/kubeflow/pipelines/tree/d79071c0bef19442483abc101769a0d893e72f42/samples/tutorials/Data%20passing%20in%20python%20components) '\n",
       "                               'Shows how to pass data between python '\n",
       "                               'components.',\n",
       "                'error': None,\n",
       "                'id': 'af8fd994-46f5-45ae-af9b-959399e43ad3',\n",
       "                'name': '[Tutorial] Data passing in python components',\n",
       "                'parameters': None,\n",
       "                'url': None},\n",
       "               {'created_at': datetime.datetime(2021, 3, 12, 6, 9, 53, tzinfo=tzlocal()),\n",
       "                'default_version': {'code_source_url': None,\n",
       "                                    'created_at': datetime.datetime(2021, 3, 12, 6, 9, 53, tzinfo=tzlocal()),\n",
       "                                    'id': '256d1ce8-8f3c-4627-bb51-aec9336912f9',\n",
       "                                    'name': '[Tutorial] DSL - Control '\n",
       "                                            'structures',\n",
       "                                    'package_url': None,\n",
       "                                    'parameters': None,\n",
       "                                    'resource_references': [{'key': {'id': '256d1ce8-8f3c-4627-bb51-aec9336912f9',\n",
       "                                                                     'type': 'PIPELINE'},\n",
       "                                                             'name': None,\n",
       "                                                             'relationship': 'OWNER'}]},\n",
       "                'description': '[source '\n",
       "                               'code](https://github.com/kubeflow/pipelines/tree/d79071c0bef19442483abc101769a0d893e72f42/samples/tutorials/DSL%20-%20Control%20structures) '\n",
       "                               'Shows how to use conditional execution and '\n",
       "                               'exit handlers. This pipeline will randomly '\n",
       "                               'fail to demonstrate that the exit handler gets '\n",
       "                               'executed even in case of failure.',\n",
       "                'error': None,\n",
       "                'id': '256d1ce8-8f3c-4627-bb51-aec9336912f9',\n",
       "                'name': '[Tutorial] DSL - Control structures',\n",
       "                'parameters': None,\n",
       "                'url': None}],\n",
       " 'total_size': 4}"
      ]
     },
     "execution_count": 4,
     "metadata": {},
     "output_type": "execute_result"
    }
   ],
   "source": [
    "import kfp\n",
    "import os\n",
    "client = kfp.Client(host=PIPELINES_HOST)\n",
    "client.list_pipelines()"
   ]
  },
  {
   "cell_type": "markdown",
   "metadata": {},
   "source": [
    "## 4. [Optional] Build Docker containers\n",
    "\n",
    "I have made my containers public (See https://cloud.google.com/container-registry/docs/access-control on how to do this), so you can simply use my images."
   ]
  },
  {
   "cell_type": "code",
   "execution_count": 5,
   "metadata": {},
   "outputs": [],
   "source": [
    "#%%bash\n",
    "#cd pipelines/containers\n",
    "#bash build_all.sh"
   ]
  },
  {
   "cell_type": "code",
   "execution_count": 6,
   "metadata": {},
   "outputs": [],
   "source": [
    "#!docker image rm -f 84"
   ]
  },
  {
   "cell_type": "markdown",
   "metadata": {},
   "source": [
    "Check that the Docker images work properly ..."
   ]
  },
  {
   "cell_type": "code",
   "execution_count": 7,
   "metadata": {},
   "outputs": [],
   "source": [
    "#!docker run -t gcr.io/ai-analytics-solutions/babyweight-pipeline-bqtocsv:latest --project $PROJECT  --bucket $BUCKET --mode local"
   ]
  },
  {
   "cell_type": "markdown",
   "metadata": {},
   "source": [
    "### 5. Upload and execute pipeline\n",
    "\n",
    "Upload to the Kubeflow pipeline cluster"
   ]
  },
  {
   "cell_type": "code",
   "execution_count": 8,
   "metadata": {},
   "outputs": [
    {
     "data": {
      "text/html": [
       "<a href=\"http://67ec0276503ce122-dot-us-central1.pipelines.googleusercontent.com/#/experiments/details/8e56e143-372b-4ab7-ad8d-1db92aceb6f9\" target=\"_blank\" >Experiment details</a>."
      ],
      "text/plain": [
       "<IPython.core.display.HTML object>"
      ]
     },
     "metadata": {},
     "output_type": "display_data"
    },
    {
     "data": {
      "text/html": [
       "<a href=\"http://67ec0276503ce122-dot-us-central1.pipelines.googleusercontent.com/#/runs/details/f6319bb5-123d-4a48-a5e8-7b7685663efa\" target=\"_blank\" >Run details</a>."
      ],
      "text/plain": [
       "<IPython.core.display.HTML object>"
      ]
     },
     "metadata": {},
     "output_type": "display_data"
    }
   ],
   "source": [
    "from pipelines.containers.pipeline import mlp_babyweight\n",
    "\n",
    "args = {\n",
    "    'project' : PROJECT, \n",
    "    'bucket' : BUCKET\n",
    "}\n",
    "#os.environ['HPARAM_JOB'] = 'babyweight_210311_191208'\n",
    "\n",
    "pipeline = client.create_run_from_pipeline_func(mlp_babyweight.preprocess_train_and_deploy, args)\n",
    "\n",
    "#os.environ['HPARAM_JOB'] = 'babyweight_200207_231639' # change to job from complete step\n",
    "#pipeline = client.create_run_from_pipeline_func(mlp_babyweight.train_and_deploy, args)"
   ]
  },
  {
   "cell_type": "code",
   "execution_count": 4,
   "metadata": {},
   "outputs": [],
   "source": [
    "# Copyright 2020 Google LLC\n",
    "#\n",
    "# Licensed under the Apache License, Version 2.0 (the \"License\");\n",
    "# you may not use this file except in compliance with the License.\n",
    "# You may obtain a copy of the License at\n",
    "#\n",
    "#      http://www.apache.org/licenses/LICENSE-2.0\n",
    "#\n",
    "# Unless required by applicable law or agreed to in writing, software\n",
    "# distributed under the License is distributed on an \"AS IS\" BASIS,\n",
    "# WITHOUT WARRANTIES OR CONDITIONS OF ANY KIND, either express or implied.\n",
    "# See the License for the specific language governing permissions and\n",
    "# limitations under the License."
   ]
  },
  {
   "cell_type": "code",
   "execution_count": 12,
   "metadata": {},
   "outputs": [
    {
     "name": "stdout",
     "output_type": "stream",
     "text": [
      "secret/user-gcp-sa created\n"
     ]
    },
    {
     "name": "stderr",
     "output_type": "stream",
     "text": [
      "Fetching cluster endpoint and auth data.\n",
      "kubeconfig entry generated for cluster-1.\n",
      "created key [8f0efd32546d7a441e488188704559a001a085da] of type [json] as [application_default_credentials.json] for [kfpdemo@youtubelist-256522.iam.gserviceaccount.com]\n",
      "W0311 10:08:09.874882   10725 helpers.go:553] --dry-run is deprecated and can be replaced with --dry-run=client.\n"
     ]
    }
   ],
   "source": [
    "%%bash\n",
    "cd pipelines\n",
    "./setup_auth.sh kfpdemo us-central1-a cluster-1 default"
   ]
  },
  {
   "cell_type": "code",
   "execution_count": null,
   "metadata": {},
   "outputs": [],
   "source": []
  },
  {
   "cell_type": "code",
   "execution_count": 5,
   "metadata": {},
   "outputs": [],
   "source": [
    "#!docker run -t gcr.io/youtubelist-256522/babyweight-pipeline-traintuned:latest babyweight_210311_191208 cesar-pipelines-kfp"
   ]
  },
  {
   "cell_type": "code",
   "execution_count": 6,
   "metadata": {},
   "outputs": [],
   "source": [
    "#%%bash\n",
    "#docker run -t gcr.io/youtubelist-256522/babyweight-pipeline-deploycmle:latest gs://cesar-pipelines-kfp/babyweight/traintuned babyweight mlp"
   ]
  },
  {
   "cell_type": "code",
   "execution_count": null,
   "metadata": {},
   "outputs": [],
   "source": []
  },
  {
   "cell_type": "code",
   "execution_count": 10,
   "metadata": {},
   "outputs": [],
   "source": [
    "#!chmod +rwx pipelines/containers/traintuned/train.sh"
   ]
  },
  {
   "cell_type": "code",
   "execution_count": 11,
   "metadata": {},
   "outputs": [],
   "source": [
    "#!./pipelines/containers/traintuned/train.sh babyweight_210308_033518 cesar-pipelines-kfp"
   ]
  },
  {
   "cell_type": "code",
   "execution_count": 18,
   "metadata": {},
   "outputs": [
    {
     "name": "stdout",
     "output_type": "stream",
     "text": [
      "Untagged: gcr.io/youtubelist-256522/babyweight-pipeline-deploycmle:latest\n",
      "Untagged: gcr.io/youtubelist-256522/babyweight-pipeline-deploycmle@sha256:28dae94738c36e2991cd36fcff00bb611ed5e920ee87f9e68ebb9be449a26c3f\n",
      "Deleted: sha256:987f557e42229667cbf6dd0d38fb1182b199c24c0ab68eb6a6d22293841105b9\n"
     ]
    }
   ],
   "source": [
    "!docker image rm -f 98"
   ]
  },
  {
   "cell_type": "code",
   "execution_count": null,
   "metadata": {},
   "outputs": [],
   "source": []
  }
 ],
 "metadata": {
  "environment": {
   "name": "common-cpu.m65",
   "type": "gcloud",
   "uri": "gcr.io/deeplearning-platform-release/base-cpu:m65"
  },
  "kernelspec": {
   "display_name": "Python 3",
   "language": "python",
   "name": "python3"
  },
  "language_info": {
   "codemirror_mode": {
    "name": "ipython",
    "version": 3
   },
   "file_extension": ".py",
   "mimetype": "text/x-python",
   "name": "python",
   "nbconvert_exporter": "python",
   "pygments_lexer": "ipython3",
   "version": "3.7.10"
  }
 },
 "nbformat": 4,
 "nbformat_minor": 4
}
