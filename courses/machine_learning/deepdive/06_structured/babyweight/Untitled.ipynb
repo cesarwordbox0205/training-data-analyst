{
 "cells": [
  {
   "cell_type": "code",
   "execution_count": 5,
   "id": "binding-casino",
   "metadata": {},
   "outputs": [],
   "source": [
    "!chmod +rwx train.sh"
   ]
  },
  {
   "cell_type": "code",
   "execution_count": 6,
   "id": "pressed-huntington",
   "metadata": {},
   "outputs": [
    {
     "name": "stdout",
     "output_type": "stream",
     "text": [
      "+ '[' 2 -ne 2 ']'\n",
      "+ HYPERJOB=babyweight_210308_033518\n",
      "+ BUCKET=cesar-pipelines-kfp\n",
      "+ TFVERSION=1.8\n",
      "+ REGION=us-central1\n",
      "+ echo 'Extracting information for job babyweight_210308_033518'\n",
      "Extracting information for job babyweight_210308_033518\n",
      "++ gcloud ai-platform jobs describe babyweight_210308_033518 --format 'value(trainingOutput.trials.finalMetric.objectiveValue.slice(0))'\n",
      "+ RMSE=\n",
      "++ gcloud ai-platform jobs describe babyweight_210308_033518 --format 'value(trainingOutput.trials.hyperparameters.nnsize.slice(0))'\n",
      "+ NNSIZE=261\n",
      "++ gcloud ai-platform jobs describe babyweight_210308_033518 --format 'value(trainingOutput.trials.hyperparameters.batch_size.slice(0))'\n",
      "+ BATCHSIZE=8\n",
      "++ gcloud ai-platform jobs describe babyweight_210308_033518 --format 'value(trainingOutput.trials.hyperparameters.nembeds.slice(0))'\n",
      "+ NEMBEDS=14\n",
      "++ gcloud ai-platform jobs describe babyweight_210308_033518 --format 'value(trainingOutput.trials.trialId.slice(0))'\n",
      "+ TRIALID=20\n",
      "+ echo 'Continuing to train model in 20 with nnsize=261 batch_size=8 nembeds=14'\n",
      "Continuing to train model in 20 with nnsize=261 batch_size=8 nembeds=14\n",
      "+ CODEDIR=/babyweight/src/training-data-analyst/courses/machine_learning/deepdive/06_structured\n",
      "+ FROMDIR=gs://cesar-pipelines-kfp/babyweight/hyperparam/20\n",
      "+ OUTDIR=gs://cesar-pipelines-kfp/babyweight/traintuned\n",
      "+ export PYTHONPATH=/babyweight/src/training-data-analyst/courses/machine_learning/deepdive/06_structured/babyweight\n",
      "+ PYTHONPATH=/babyweight/src/training-data-analyst/courses/machine_learning/deepdive/06_structured/babyweight\n",
      "+ echo /babyweight/src/training-data-analyst/courses/machine_learning/deepdive/06_structured/babyweight\n",
      "/babyweight/src/training-data-analyst/courses/machine_learning/deepdive/06_structured/babyweight\n",
      "+ gsutil -m rm -rf gs://cesar-pipelines-kfp/babyweight/traintuned\n",
      "Removing gs://cesar-pipelines-kfp/babyweight/traintuned/export/exporter/1615175790/variables/variables.data-00001-of-00002#1615182997729995...\n",
      "Removing gs://cesar-pipelines-kfp/babyweight/traintuned/export/exporter/1615175790/variables/variables.data-00000-of-00002#1615182997678852...\n",
      "Removing gs://cesar-pipelines-kfp/babyweight/traintuned/export/exporter/1615175790/variables/variables.index#1615182997730360...\n",
      "Removing gs://cesar-pipelines-kfp/babyweight/traintuned/eval/events.out.tfevents.1615175789.gke-cml-0308-033602--n1-highcpu-8-43e-930c88cf-dbk5#1615182997640409...\n",
      "Removing gs://cesar-pipelines-kfp/babyweight/traintuned/model.ckpt-0.data-00002-of-00004#1615182997780069...\n",
      "Removing gs://cesar-pipelines-kfp/babyweight/traintuned/checkpoint#1615182997630071...\n",
      "Removing gs://cesar-pipelines-kfp/babyweight/traintuned/events.out.tfevents.1615175776.gke-cml-0308-033602--n1-highcpu-8-43e-930c88cf-dbk5#1615182997650150...\n",
      "Removing gs://cesar-pipelines-kfp/babyweight/traintuned/graph.pbtxt#1615182997734423...\n",
      "Removing gs://cesar-pipelines-kfp/babyweight/traintuned/events.out.tfevents.1615175782.gke-cml-0308-033602--n1-highcpu-8-43e-930c88cf-sr3f#1615182997698904...\n",
      "Removing gs://cesar-pipelines-kfp/babyweight/traintuned/export/exporter/1615175790/saved_model.pb#1615182997711799...\n",
      "Removing gs://cesar-pipelines-kfp/babyweight/traintuned/model.ckpt-0.data-00001-of-00004#1615182997794270...\n",
      "Removing gs://cesar-pipelines-kfp/babyweight/traintuned/model.ckpt-0.index#1615182997829955...\n",
      "Removing gs://cesar-pipelines-kfp/babyweight/traintuned/model.ckpt-0.data-00000-of-00004#1615182997797135...\n",
      "Removing gs://cesar-pipelines-kfp/babyweight/traintuned/model.ckpt-0.data-00003-of-00004#1615182997790438...\n",
      "Removing gs://cesar-pipelines-kfp/babyweight/traintuned/model.ckpt-0.meta#1615182997814720...\n",
      "/ [15/15 objects] 100% Done                                                     \n",
      "Operation completed over 15 objects.                                             \n",
      "+ gsutil -m cp -r gs://cesar-pipelines-kfp/babyweight/hyperparam/20 gs://cesar-pipelines-kfp/babyweight/traintuned\n",
      "Copying gs://cesar-pipelines-kfp/babyweight/hyperparam/20/checkpoint...\n",
      "Copying gs://cesar-pipelines-kfp/babyweight/hyperparam/20/eval/events.out.tfevents.1615175789.gke-cml-0308-033602--n1-highcpu-8-43e-930c88cf-dbk5...\n",
      "Copying gs://cesar-pipelines-kfp/babyweight/hyperparam/20/events.out.tfevents.1615175782.gke-cml-0308-033602--n1-highcpu-8-43e-930c88cf-sr3f...\n",
      "Copying gs://cesar-pipelines-kfp/babyweight/hyperparam/20/events.out.tfevents.1615175776.gke-cml-0308-033602--n1-highcpu-8-43e-930c88cf-dbk5...\n",
      "Copying gs://cesar-pipelines-kfp/babyweight/hyperparam/20/export/exporter/1615175790/variables/variables.index...\n",
      "Copying gs://cesar-pipelines-kfp/babyweight/hyperparam/20/export/exporter/1615175790/variables/variables.data-00000-of-00002...\n",
      "Copying gs://cesar-pipelines-kfp/babyweight/hyperparam/20/graph.pbtxt...        \n",
      "Copying gs://cesar-pipelines-kfp/babyweight/hyperparam/20/export/exporter/1615175790/saved_model.pb...\n",
      "Copying gs://cesar-pipelines-kfp/babyweight/hyperparam/20/model.ckpt-0.meta...\n",
      "Copying gs://cesar-pipelines-kfp/babyweight/hyperparam/20/model.ckpt-0.data-00001-of-00004...\n",
      "Copying gs://cesar-pipelines-kfp/babyweight/hyperparam/20/model.ckpt-0.data-00000-of-00004...\n",
      "Copying gs://cesar-pipelines-kfp/babyweight/hyperparam/20/model.ckpt-0.data-00003-of-00004...\n",
      "Copying gs://cesar-pipelines-kfp/babyweight/hyperparam/20/model.ckpt-0.data-00002-of-00004...\n",
      "Copying gs://cesar-pipelines-kfp/babyweight/hyperparam/20/model.ckpt-0.index... \n",
      "Copying gs://cesar-pipelines-kfp/babyweight/hyperparam/20/export/exporter/1615175790/variables/variables.data-00001-of-00002...\n",
      "+ python -m trainer.task --job-dir=gs://cesar-pipelines-kfp/babyweight/traintuned --bucket=cesar-pipelines-kfp --output_dir=gs://cesar-pipelines-kfp/babyweight/traintuned --eval_steps=10 --nnsize=261 --batch_size=8 --nembeds=14 --train_examples=2000\n",
      "Traceback (most recent call last):\n",
      "  File \"/opt/conda/lib/python3.7/runpy.py\", line 193, in _run_module_as_main\n",
      "    \"__main__\", mod_spec)\n",
      "  File \"/opt/conda/lib/python3.7/runpy.py\", line 85, in _run_code\n",
      "    exec(code, run_globals)\n",
      "  File \"/home/jupyter/training-data-analyst/courses/machine_learning/deepdive/06_structured/babyweight/trainer/task.py\", line 5, in <module>\n",
      "    from . import model\n",
      "  File \"/home/jupyter/training-data-analyst/courses/machine_learning/deepdive/06_structured/babyweight/trainer/model.py\", line 3, in <module>\n",
      "    import tensorflow as tf\n",
      "ModuleNotFoundError: No module named 'tensorflow'\n"
     ]
    }
   ],
   "source": [
    "!./train.sh babyweight_210308_033518 cesar-pipelines-kfp"
   ]
  },
  {
   "cell_type": "code",
   "execution_count": null,
   "id": "million-plate",
   "metadata": {},
   "outputs": [],
   "source": []
  }
 ],
 "metadata": {
  "environment": {
   "name": "common-cpu.m65",
   "type": "gcloud",
   "uri": "gcr.io/deeplearning-platform-release/base-cpu:m65"
  },
  "kernelspec": {
   "display_name": "Python 3",
   "language": "python",
   "name": "python3"
  },
  "language_info": {
   "codemirror_mode": {
    "name": "ipython",
    "version": 3
   },
   "file_extension": ".py",
   "mimetype": "text/x-python",
   "name": "python",
   "nbconvert_exporter": "python",
   "pygments_lexer": "ipython3",
   "version": "3.7.10"
  }
 },
 "nbformat": 4,
 "nbformat_minor": 5
}
